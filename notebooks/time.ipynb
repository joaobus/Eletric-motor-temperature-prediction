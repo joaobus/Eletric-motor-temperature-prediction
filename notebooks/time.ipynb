{
 "cells": [
  {
   "attachments": {},
   "cell_type": "markdown",
   "metadata": {},
   "source": [
    "# Prediction time comparison between GPU and CPU"
   ]
  },
  {
   "attachments": {},
   "cell_type": "markdown",
   "metadata": {},
   "source": [
    "## Specs"
   ]
  },
  {
   "cell_type": "code",
   "execution_count": 1,
   "metadata": {},
   "outputs": [
    {
     "name": "stdout",
     "output_type": "stream",
     "text": [
      "/bin/bash: /home/alunos/a2162865/miniconda3/envs/tf/lib/libtinfo.so.6: no version information available (required by /bin/bash)\n",
      "Arquitetura:                     x86_64\n",
      "Modo(s) operacional da CPU:      32-bit, 64-bit\n",
      "Ordem dos bytes:                 Little Endian\n",
      "Tamanhos de endereço:            46 bits physical, 57 bits virtual\n",
      "CPU(s):                          64\n",
      "Lista de CPU(s) on-line:         0-63\n",
      "Thread(s) per núcleo:            1\n",
      "Núcleo(s) por soquete:           16\n",
      "Soquete(s):                      4\n",
      "Nó(s) de NUMA:                   1\n",
      "ID de fornecedor:                GenuineIntel\n",
      "Família da CPU:                  6\n",
      "Modelo:                          106\n",
      "Nome do modelo:                  Intel(R) Xeon(R) Silver 4316 CPU @ 2.30GHz\n",
      "Step:                            6\n",
      "CPU MHz:                         2294.669\n",
      "BogoMIPS:                        4589.33\n",
      "Virtualização:                   VT-x\n",
      "cache de L1d:                    2 MiB\n",
      "cache de L1i:                    2 MiB\n",
      "cache de L2:                     256 MiB\n",
      "cache de L3:                     64 MiB\n",
      "CPU(s) de nó0 NUMA:              0-63\n",
      "Vulnerability Itlb multihit:     Not affected\n",
      "Vulnerability L1tf:              Not affected\n",
      "Vulnerability Mds:               Not affected\n",
      "Vulnerability Meltdown:          Not affected\n",
      "Vulnerability Mmio stale data:   Vulnerable: Clear CPU buffers attempted, no mic\n",
      "                                 rocode; SMT Host state unknown\n",
      "Vulnerability Retbleed:          Not affected\n",
      "Vulnerability Spec store bypass: Mitigation; Speculative Store Bypass disabled v\n",
      "                                 ia prctl and seccomp\n",
      "Vulnerability Spectre v1:        Mitigation; usercopy/swapgs barriers and __user\n",
      "                                  pointer sanitization\n",
      "Vulnerability Spectre v2:        Mitigation; Enhanced IBRS, IBPB conditional, RS\n",
      "                                 B filling, PBRSB-eIBRS SW sequence\n",
      "Vulnerability Srbds:             Not affected\n",
      "Vulnerability Tsx async abort:   Mitigation; TSX disabled\n",
      "Opções:                          fpu vme de pse tsc msr pae mce cx8 apic sep mtr\n",
      "                                 r pge mca cmov pat pse36 clflush mmx fxsr sse s\n",
      "                                 se2 ss ht syscall nx pdpe1gb rdtscp lm constant\n",
      "                                 _tsc arch_perfmon rep_good nopl xtopology cpuid\n",
      "                                  pni pclmulqdq vmx ssse3 fma cx16 pdcm pcid sse\n",
      "                                 4_1 sse4_2 x2apic movbe popcnt tsc_deadline_tim\n",
      "                                 er aes xsave avx f16c rdrand hypervisor lahf_lm\n",
      "                                  abm 3dnowprefetch cpuid_fault invpcid_single s\n",
      "                                 sbd ibrs ibpb stibp ibrs_enhanced tpr_shadow vn\n",
      "                                 mi flexpriority ept vpid ept_ad fsgsbase tsc_ad\n",
      "                                 just bmi1 avx2 smep bmi2 erms invpcid avx512f a\n",
      "                                 vx512dq rdseed adx smap avx512ifma clflushopt c\n",
      "                                 lwb avx512cd sha_ni avx512bw avx512vl xsaveopt \n",
      "                                 xsavec xgetbv1 xsaves wbnoinvd arat avx512vbmi \n",
      "                                 umip pku ospke avx512_vbmi2 gfni vaes vpclmulqd\n",
      "                                 q avx512_vnni avx512_bitalg avx512_vpopcntdq rd\n",
      "                                 pid fsrm md_clear arch_capabilities\n"
     ]
    }
   ],
   "source": [
    "!lscpu"
   ]
  },
  {
   "cell_type": "code",
   "execution_count": 2,
   "metadata": {},
   "outputs": [
    {
     "name": "stdout",
     "output_type": "stream",
     "text": [
      "/bin/bash: /home/alunos/a2162865/miniconda3/envs/tf/lib/libtinfo.so.6: no version information available (required by /bin/bash)\n",
      "Wed Jun 21 13:47:43 2023       \n",
      "+-----------------------------------------------------------------------------+\n",
      "| NVIDIA-SMI 520.61.05    Driver Version: 520.61.05    CUDA Version: 11.8     |\n",
      "|-------------------------------+----------------------+----------------------+\n",
      "| GPU  Name        Persistence-M| Bus-Id        Disp.A | Volatile Uncorr. ECC |\n",
      "| Fan  Temp  Perf  Pwr:Usage/Cap|         Memory-Usage | GPU-Util  Compute M. |\n",
      "|                               |                      |               MIG M. |\n",
      "|===============================+======================+======================|\n",
      "|   0  Quadro RTX 8000     On   | 00000000:01:00.0 Off |                  Off |\n",
      "| 33%   24C    P8     7W / 260W |      1MiB / 49152MiB |      0%      Default |\n",
      "|                               |                      |                  N/A |\n",
      "+-------------------------------+----------------------+----------------------+\n",
      "                                                                               \n",
      "+-----------------------------------------------------------------------------+\n",
      "| Processes:                                                                  |\n",
      "|  GPU   GI   CI        PID   Type   Process name                  GPU Memory |\n",
      "|        ID   ID                                                   Usage      |\n",
      "|=============================================================================|\n",
      "|  No running processes found                                                 |\n",
      "+-----------------------------------------------------------------------------+\n"
     ]
    }
   ],
   "source": [
    "!nvidia-smi"
   ]
  },
  {
   "attachments": {},
   "cell_type": "markdown",
   "metadata": {},
   "source": [
    "## Timing"
   ]
  },
  {
   "attachments": {},
   "cell_type": "markdown",
   "metadata": {},
   "source": [
    "### GPU"
   ]
  },
  {
   "cell_type": "code",
   "execution_count": 3,
   "metadata": {},
   "outputs": [
    {
     "name": "stderr",
     "output_type": "stream",
     "text": [
      "2023-06-21 13:47:45.135490: W tensorflow/compiler/tf2tensorrt/utils/py_utils.cc:38] TF-TRT Warning: Could not find TensorRT\n"
     ]
    },
    {
     "name": "stdout",
     "output_type": "stream",
     "text": [
      "Num GPUs Available: 1\n",
      "\n"
     ]
    },
    {
     "name": "stderr",
     "output_type": "stream",
     "text": [
      "/home/alunos/a2162865/.local/lib/python3.9/site-packages/tqdm/auto.py:22: TqdmWarning: IProgress not found. Please update jupyter and ipywidgets. See https://ipywidgets.readthedocs.io/en/stable/user_install.html\n",
      "  from .autonotebook import tqdm as notebook_tqdm\n"
     ]
    }
   ],
   "source": [
    "import os\n",
    "os.environ['TF_CPP_MIN_LOG_LEVEL'] = '1'\n",
    "\n",
    "import pandas as pd\n",
    "import tensorflow as tf\n",
    "\n",
    "from main import Pipeline\n",
    "from modeling.functional import rnn_stator_model\n",
    "from utils.configs import rnn_stator_cfg\n",
    "\n",
    "print(f\"Num GPUs Available: {len(tf.config.list_physical_devices('GPU'))}\\n\")"
   ]
  },
  {
   "cell_type": "code",
   "execution_count": 4,
   "metadata": {},
   "outputs": [
    {
     "name": "stdout",
     "output_type": "stream",
     "text": [
      "Model: RNN_stator\n",
      "Num GPUs Available: 1\n",
      "\n",
      "Batches in the training dataset: 245\n",
      "Batches in the validation dataset: 9\n",
      "Batches in the test dataset: 13\n",
      "\n"
     ]
    },
    {
     "data": {
      "text/plain": [
       "<main.Pipeline at 0x7fd19aaaba60>"
      ]
     },
     "execution_count": 4,
     "metadata": {},
     "output_type": "execute_result"
    }
   ],
   "source": [
    "feature_names = list(pd.read_csv(f'out/RNN_stator/shap/shap_features_RNN_stator.csv', index_col=0).head(10).index)\n",
    "p = Pipeline(rnn_stator_model(10), rnn_stator_cfg, feature_names=feature_names)\n",
    "p.load_model_weights('out/models/RNN_stator_10.h5')"
   ]
  },
  {
   "cell_type": "code",
   "execution_count": 5,
   "metadata": {},
   "outputs": [
    {
     "name": "stdout",
     "output_type": "stream",
     "text": [
      "50.5 ms ± 1.67 ms per loop (mean ± std. dev. of 7 runs, 1 loop each)\n"
     ]
    }
   ],
   "source": [
    "# GPU single element prediction\n",
    "%timeit p.model.predict(tf.random.uniform([1,42,10]), verbose=0)"
   ]
  },
  {
   "cell_type": "code",
   "execution_count": 6,
   "metadata": {},
   "outputs": [
    {
     "name": "stdout",
     "output_type": "stream",
     "text": [
      "32 s ± 726 ms per loop (mean ± std. dev. of 7 runs, 1 loop each)\n"
     ]
    }
   ],
   "source": [
    "# GPU test dataset prediction (~65000 elements)\n",
    "%timeit p.model.predict(p.test_ds, verbose=0)"
   ]
  },
  {
   "cell_type": "code",
   "execution_count": 7,
   "metadata": {},
   "outputs": [
    {
     "name": "stdout",
     "output_type": "stream",
     "text": [
      "29.5 s ± 446 ms per loop (mean ± std. dev. of 7 runs, 1 loop each)\n"
     ]
    }
   ],
   "source": [
    "# GPU train dataset prediction (~1225000 elements)\n",
    "%timeit p.model.predict(p.train_ds, verbose=0)"
   ]
  },
  {
   "attachments": {},
   "cell_type": "markdown",
   "metadata": {},
   "source": [
    "### CPU"
   ]
  },
  {
   "cell_type": "code",
   "execution_count": 1,
   "metadata": {},
   "outputs": [
    {
     "name": "stderr",
     "output_type": "stream",
     "text": [
      "2023-06-21 14:24:15.247057: W tensorflow/compiler/tf2tensorrt/utils/py_utils.cc:38] TF-TRT Warning: Could not find TensorRT\n"
     ]
    },
    {
     "name": "stdout",
     "output_type": "stream",
     "text": [
      "Num GPUs Available: 0\n",
      "\n"
     ]
    },
    {
     "name": "stderr",
     "output_type": "stream",
     "text": [
      "2023-06-21 14:24:16.055017: E tensorflow/compiler/xla/stream_executor/cuda/cuda_driver.cc:266] failed call to cuInit: CUDA_ERROR_NO_DEVICE: no CUDA-capable device is detected\n",
      "/home/alunos/a2162865/.local/lib/python3.9/site-packages/tqdm/auto.py:22: TqdmWarning: IProgress not found. Please update jupyter and ipywidgets. See https://ipywidgets.readthedocs.io/en/stable/user_install.html\n",
      "  from .autonotebook import tqdm as notebook_tqdm\n"
     ]
    }
   ],
   "source": [
    "import os\n",
    "os.environ['CUDA_VISIBLE_DEVICES'] = '-1'\n",
    "os.environ['TF_CPP_MIN_LOG_LEVEL'] = '1'\n",
    "import tensorflow as tf\n",
    "import pandas as pd\n",
    "print(f\"Num GPUs Available: {len(tf.config.list_physical_devices('GPU'))}\\n\")\n",
    "\n",
    "from main import Pipeline\n",
    "from modeling.functional import rnn_stator_model\n",
    "from utils.configs import rnn_stator_cfg"
   ]
  },
  {
   "cell_type": "code",
   "execution_count": 2,
   "metadata": {},
   "outputs": [
    {
     "name": "stdout",
     "output_type": "stream",
     "text": [
      "Model: RNN_stator\n",
      "Num GPUs Available: 0\n",
      "\n",
      "Batches in the training dataset: 245\n",
      "Batches in the validation dataset: 9\n",
      "Batches in the test dataset: 13\n",
      "\n"
     ]
    },
    {
     "data": {
      "text/plain": [
       "<main.Pipeline at 0x7f4bcba60a90>"
      ]
     },
     "execution_count": 2,
     "metadata": {},
     "output_type": "execute_result"
    }
   ],
   "source": [
    "feature_names = list(pd.read_csv(f'out/RNN_stator/shap/shap_features_RNN_stator.csv', index_col=0).head(10).index)\n",
    "p = Pipeline(rnn_stator_model(10), rnn_stator_cfg, feature_names=feature_names)\n",
    "p.load_model_weights('out/models/RNN_stator_10.h5')"
   ]
  },
  {
   "cell_type": "code",
   "execution_count": 3,
   "metadata": {},
   "outputs": [
    {
     "name": "stdout",
     "output_type": "stream",
     "text": [
      "52.7 ms ± 2.96 ms per loop (mean ± std. dev. of 7 runs, 1 loop each)\n"
     ]
    }
   ],
   "source": [
    "# CPU single element prediction\n",
    "%timeit p.model.predict(tf.random.uniform([1,42,10]), verbose=0)"
   ]
  },
  {
   "cell_type": "code",
   "execution_count": 4,
   "metadata": {},
   "outputs": [
    {
     "name": "stdout",
     "output_type": "stream",
     "text": [
      "39 s ± 304 ms per loop (mean ± std. dev. of 7 runs, 1 loop each)\n"
     ]
    }
   ],
   "source": [
    "# CPU test dataset prediction (~65000 elements)\n",
    "%timeit p.model.predict(p.test_ds, verbose=0)"
   ]
  },
  {
   "cell_type": "code",
   "execution_count": 5,
   "metadata": {},
   "outputs": [
    {
     "name": "stdout",
     "output_type": "stream",
     "text": [
      "2min 26s ± 227 ms per loop (mean ± std. dev. of 7 runs, 1 loop each)\n"
     ]
    }
   ],
   "source": [
    "# CPU train dataset prediction (~1225000 elements)\n",
    "%timeit p.model.predict(p.train_ds, verbose=0)"
   ]
  }
 ],
 "metadata": {
  "kernelspec": {
   "display_name": "base",
   "language": "python",
   "name": "python3"
  },
  "language_info": {
   "codemirror_mode": {
    "name": "ipython",
    "version": 3
   },
   "file_extension": ".py",
   "mimetype": "text/x-python",
   "name": "python",
   "nbconvert_exporter": "python",
   "pygments_lexer": "ipython3",
   "version": "3.9.16"
  },
  "orig_nbformat": 4
 },
 "nbformat": 4,
 "nbformat_minor": 2
}
