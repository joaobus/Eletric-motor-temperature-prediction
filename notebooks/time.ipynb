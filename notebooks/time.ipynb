{
 "cells": [
  {
   "cell_type": "code",
   "execution_count": 5,
   "metadata": {},
   "outputs": [],
   "source": [
    "import os\n",
    "import pandas as pd\n",
    "import tensorflow as tf\n",
    "\n",
    "from main import Pipeline\n",
    "from modeling.functional import rnn_stator_model\n",
    "from utils.configs import rnn_stator_cfg"
   ]
  },
  {
   "cell_type": "code",
   "execution_count": 3,
   "metadata": {},
   "outputs": [
    {
     "name": "stdout",
     "output_type": "stream",
     "text": [
      "Model: RNN_stator\n",
      "Num GPUs Available: 0\n",
      "\n",
      "Batches in the training dataset: 245\n",
      "Batches in the validation dataset: 9\n",
      "Batches in the test dataset: 13\n",
      "\n"
     ]
    }
   ],
   "source": [
    "feature_names = list(pd.read_csv(f'out/RNN_stator/shap/shap_features_RNN_stator.csv', index_col=0).head(10).index)\n",
    "p = Pipeline(rnn_stator_model(10), rnn_stator_cfg, feature_names=feature_names)\n",
    "p.load_model_weights('out/models/RNN_stator_10.h5')\n",
    "batch = p.test_ds.take(1)"
   ]
  },
  {
   "cell_type": "code",
   "execution_count": null,
   "metadata": {},
   "outputs": [],
   "source": [
    "# GPU batch prediction\n",
    "%timeit p.model.predict(batch)"
   ]
  },
  {
   "cell_type": "code",
   "execution_count": null,
   "metadata": {},
   "outputs": [],
   "source": [
    "# CPU batch prediction\n",
    "os.environ['CUDA_VISIBLE_DEVICES'] = '-1'\n",
    "%timeit p.model.predict(batch)"
   ]
  }
 ],
 "metadata": {
  "kernelspec": {
   "display_name": "base",
   "language": "python",
   "name": "python3"
  },
  "language_info": {
   "codemirror_mode": {
    "name": "ipython",
    "version": 3
   },
   "file_extension": ".py",
   "mimetype": "text/x-python",
   "name": "python",
   "nbconvert_exporter": "python",
   "pygments_lexer": "ipython3",
   "version": "3.9.12"
  },
  "orig_nbformat": 4
 },
 "nbformat": 4,
 "nbformat_minor": 2
}
